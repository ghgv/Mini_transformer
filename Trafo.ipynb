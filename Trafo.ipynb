{
 "cells": [
  {
   "cell_type": "code",
   "execution_count": 1,
   "id": "93e1c69f-bd8c-4936-8200-d4bc8afac504",
   "metadata": {},
   "outputs": [],
   "source": [
    "import torch\n",
    "import torch.nn as nn"
   ]
  },
  {
   "cell_type": "code",
   "execution_count": 2,
   "id": "9ef97ee7-f1b1-487f-b62a-5038d3e4b2f0",
   "metadata": {},
   "outputs": [],
   "source": [
    "text = \"el gato duerme en el tejado\"\n",
    "tokens = text.split()"
   ]
  },
  {
   "cell_type": "code",
   "execution_count": 3,
   "id": "978e5681-8ade-4adc-a9f3-fce665db7c19",
   "metadata": {},
   "outputs": [
    {
     "data": {
      "text/plain": [
       "['el', 'gato', 'duerme', 'en', 'el', 'tejado']"
      ]
     },
     "execution_count": 3,
     "metadata": {},
     "output_type": "execute_result"
    }
   ],
   "source": [
    "tokens"
   ]
  },
  {
   "cell_type": "code",
   "execution_count": 4,
   "id": "4d9fd41b-fcbb-4f8d-a2e4-9794ac038719",
   "metadata": {},
   "outputs": [],
   "source": [
    "vocab = {w : i for i,w in enumerate(set(tokens))}\n",
    "vocab_size = len(vocab)\n",
    "vocab_size\n",
    "indices = torch.tensor([vocab[w] for w in tokens])"
   ]
  },
  {
   "cell_type": "code",
   "execution_count": 5,
   "id": "044f48f9-134c-4804-a5e9-7388793245b7",
   "metadata": {},
   "outputs": [
    {
     "data": {
      "text/plain": [
       "tensor([2, 1, 0, 4, 2, 3])"
      ]
     },
     "execution_count": 5,
     "metadata": {},
     "output_type": "execute_result"
    }
   ],
   "source": [
    "indices"
   ]
  },
  {
   "cell_type": "code",
   "execution_count": 6,
   "id": "22fe7cc7-678b-4f78-94eb-203f24a7f8ef",
   "metadata": {},
   "outputs": [],
   "source": [
    "class PositionalEncoding(nn.Module):\n",
    "    def __init__(self, d_model,max_len=5000):\n",
    "        super().__init__()\n",
    "        pe = torch.zeros(max_len,d_model)\n",
    "        position = torch,arange(0,max_len).unsqueeze(1) #???? se pasa de (B,) a [B]\n",
    "        div_term = torch.exp(torch.arange(0, d_model, 2) * (-torch.log(torch.tensor(10000.0)) / d_model))\n",
    "        pe[:,0::2] =torch.sin(position*div_term)\n",
    "        pe[:,1::2] =torch.sin(position*div_term)\n",
    "        self.register_buffer('pe',pe.unsqueeze(0))\n",
    "        \n",
    "    def forward(self,x):\n",
    "        x = x + self.pe[x.size(1)]\n",
    "        return x\n",
    "        \n",
    "        "
   ]
  },
  {
   "cell_type": "code",
   "execution_count": 8,
   "id": "11aa15c4-0160-43ea-b0b3-da9447c386ed",
   "metadata": {},
   "outputs": [],
   "source": [
    "class MiniTrafo(nn.Module):\n",
    "    def __init__(self,vocab_size, d_model=32,num_heads=4,d_ff=128,num_layers=2, max_len=128):\n",
    "        super().__init__()\n",
    "        self.embedding = nn.Embedding(vocab_size,d_model)\n",
    "        self.pos_encoding = Positional_Enconding(d_model,max_len)\n",
    "        self.layers = nn.ModuleList([ TransformerBlock(d_model,nu,_heads,d_ff) for _ in range(num_layers)])\n",
    "        self.layerNorm = nn.LayerNorm(d_model)\n",
    "        self.head = nn.Linear(d_model,vocab_size)\n",
    "\n",
    "    def forward(self,x):\n",
    "        B,T = x.shape\n",
    "        mask = torch.tril(torch.ones(T,T, device=x.device)).unsqueeze(0).unsqueeze(o) # (1,1,T,T)\n",
    "        x = self.embdding(x)\n",
    "        x = self.pos_encoding(x)\n",
    "            \n",
    "        \n",
    "    "
   ]
  },
  {
   "cell_type": "code",
   "execution_count": 9,
   "id": "0f52a076-b120-421f-9e15-5eea208e7ff4",
   "metadata": {},
   "outputs": [
    {
     "data": {
      "text/plain": [
       "torch.Size([5, 1])"
      ]
     },
     "execution_count": 9,
     "metadata": {},
     "output_type": "execute_result"
    }
   ],
   "source": [
    "r= torch.arange(0,5).unsqueeze(1)\n",
    "r.shape"
   ]
  },
  {
   "cell_type": "code",
   "execution_count": 10,
   "id": "4398ba89-f50a-47ce-b186-c10b8437810b",
   "metadata": {},
   "outputs": [
    {
     "data": {
      "text/plain": [
       "tensor([[0],\n",
       "        [1],\n",
       "        [2],\n",
       "        [3],\n",
       "        [4]])"
      ]
     },
     "execution_count": 10,
     "metadata": {},
     "output_type": "execute_result"
    }
   ],
   "source": [
    "r"
   ]
  },
  {
   "cell_type": "code",
   "execution_count": null,
   "id": "33e1cf88-a492-4e20-a137-3c1779e61bee",
   "metadata": {},
   "outputs": [],
   "source": []
  }
 ],
 "metadata": {
  "kernelspec": {
   "display_name": "Python 3 (ipykernel)",
   "language": "python",
   "name": "python3"
  },
  "language_info": {
   "codemirror_mode": {
    "name": "ipython",
    "version": 3
   },
   "file_extension": ".py",
   "mimetype": "text/x-python",
   "name": "python",
   "nbconvert_exporter": "python",
   "pygments_lexer": "ipython3",
   "version": "3.12.3"
  }
 },
 "nbformat": 4,
 "nbformat_minor": 5
}
